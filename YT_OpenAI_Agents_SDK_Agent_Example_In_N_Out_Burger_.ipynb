{
  "nbformat": 4,
  "nbformat_minor": 0,
  "metadata": {
    "colab": {
      "provenance": [],
      "include_colab_link": true
    },
    "kernelspec": {
      "name": "python3",
      "display_name": "Python 3"
    },
    "language_info": {
      "name": "python"
    }
  },
  "cells": [
    {
      "cell_type": "markdown",
      "metadata": {
        "id": "view-in-github",
        "colab_type": "text"
      },
      "source": [
        "<a href=\"https://colab.research.google.com/github/binaychandra/octax/blob/main/YT_OpenAI_Agents_SDK_Agent_Example_In_N_Out_Burger_.ipynb\" target=\"_parent\"><img src=\"https://colab.research.google.com/assets/colab-badge.svg\" alt=\"Open In Colab\"/></a>"
      ]
    },
    {
      "cell_type": "code",
      "execution_count": 1,
      "metadata": {
        "colab": {
          "base_uri": "https://localhost:8080/"
        },
        "id": "Qm1thI2RRGTP",
        "outputId": "fcc2cc47-ebbc-461c-e507-5d23e40754f5"
      },
      "outputs": [
        {
          "output_type": "stream",
          "name": "stdout",
          "text": [
            "\u001b[?25l   \u001b[90m━━━━━━━━━━━━━━━━━━━━━━━━━━━━━━━━━━━━━━━━\u001b[0m \u001b[32m0.0/120.2 kB\u001b[0m \u001b[31m?\u001b[0m eta \u001b[36m-:--:--\u001b[0m\r\u001b[2K   \u001b[90m━━━━━━━━━━━━━━━━━━━━━━━━━━━━━━━━━━━━━━━━\u001b[0m \u001b[32m120.2/120.2 kB\u001b[0m \u001b[31m4.5 MB/s\u001b[0m eta \u001b[36m0:00:00\u001b[0m\n",
            "\u001b[2K   \u001b[90m━━━━━━━━━━━━━━━━━━━━━━━━━━━━━━━━━━━━━━━━\u001b[0m \u001b[32m129.3/129.3 kB\u001b[0m \u001b[31m6.2 MB/s\u001b[0m eta \u001b[36m0:00:00\u001b[0m\n",
            "\u001b[2K   \u001b[90m━━━━━━━━━━━━━━━━━━━━━━━━━━━━━━━━━━━━━━━━\u001b[0m \u001b[32m125.1/125.1 kB\u001b[0m \u001b[31m5.6 MB/s\u001b[0m eta \u001b[36m0:00:00\u001b[0m\n",
            "\u001b[2K   \u001b[90m━━━━━━━━━━━━━━━━━━━━━━━━━━━━━━━━━━━━━━━━\u001b[0m \u001b[32m717.5/717.5 kB\u001b[0m \u001b[31m15.3 MB/s\u001b[0m eta \u001b[36m0:00:00\u001b[0m\n",
            "\u001b[2K   \u001b[90m━━━━━━━━━━━━━━━━━━━━━━━━━━━━━━━━━━━━━━━━\u001b[0m \u001b[32m44.4/44.4 kB\u001b[0m \u001b[31m2.5 MB/s\u001b[0m eta \u001b[36m0:00:00\u001b[0m\n",
            "\u001b[2K   \u001b[90m━━━━━━━━━━━━━━━━━━━━━━━━━━━━━━━━━━━━━━━━\u001b[0m \u001b[32m72.0/72.0 kB\u001b[0m \u001b[31m4.5 MB/s\u001b[0m eta \u001b[36m0:00:00\u001b[0m\n",
            "\u001b[2K   \u001b[90m━━━━━━━━━━━━━━━━━━━━━━━━━━━━━━━━━━━━━━━━\u001b[0m \u001b[32m62.5/62.5 kB\u001b[0m \u001b[31m3.8 MB/s\u001b[0m eta \u001b[36m0:00:00\u001b[0m\n",
            "\u001b[?25h"
          ]
        }
      ],
      "source": [
        "!pip -q install openai-agents"
      ]
    },
    {
      "cell_type": "code",
      "source": [
        "import markdown\n",
        "from IPython.display import display, Markdown\n",
        "\n",
        "# Example usage\n",
        "markdown_text = \"\"\"\n",
        "# In‑N‑Out Burger Chatbot\n",
        "\"\"\"\n",
        "\n",
        "display(Markdown(markdown_text))\n"
      ],
      "metadata": {
        "colab": {
          "base_uri": "https://localhost:8080/",
          "height": 74
        },
        "id": "yuftPeB29658",
        "outputId": "5014f689-b1bf-43e2-97a0-d70a089685be"
      },
      "execution_count": 2,
      "outputs": [
        {
          "output_type": "display_data",
          "data": {
            "text/plain": [
              "<IPython.core.display.Markdown object>"
            ],
            "text/markdown": "\n# In‑N‑Out Burger Chatbot\n"
          },
          "metadata": {}
        }
      ]
    },
    {
      "cell_type": "code",
      "source": [
        "\n",
        "import os\n",
        "from google.colab import userdata\n",
        "\n",
        "openai_api_key = userdata.get('OPENAI_API_KEY')\n",
        "os.environ['OPENAI_API_KEY'] = openai_api_key\n",
        "\n",
        "# Verify that the key is set\n",
        "print(f\"OpenAI API key set: {bool(openai_api_key)}\")\n"
      ],
      "metadata": {
        "colab": {
          "base_uri": "https://localhost:8080/"
        },
        "id": "yzni0b_DSLm2",
        "outputId": "8676e6e4-7ebd-4320-c1a9-a90c2fb2dafd"
      },
      "execution_count": 4,
      "outputs": [
        {
          "output_type": "stream",
          "name": "stdout",
          "text": [
            "OpenAI API key set: True\n"
          ]
        }
      ]
    },
    {
      "cell_type": "code",
      "source": [
        "import nest_asyncio\n",
        "nest_asyncio.apply()"
      ],
      "metadata": {
        "id": "Pfdarpu9So_g"
      },
      "execution_count": 5,
      "outputs": []
    },
    {
      "cell_type": "code",
      "source": [
        "MENU_PRICES = \"\"\"\n",
        "\n",
        "# In‑N‑Out Burger Menu (2025)\n",
        "\n",
        "**Prices are approximate and subject to change.**\n",
        "\n",
        "## Burgers & Combos\n",
        "\n",
        "| Item                                    | Price  |\n",
        "|-----------------------------------------|--------|\n",
        "| Additional Burger Patty (per extra)     | $1.30  |\n",
        "| Additional Cheese Slice (per extra)     | $0.50  |\n",
        "| **Hamburger**                           | $3.60  |\n",
        "| **Hamburger Combo**                     | $8.15  |\n",
        "| **Cheeseburger**                        | $4.10  |\n",
        "| **Cheeseburger Combo**                  | $8.65  |\n",
        "| **Double Double®**                      | $5.90  |\n",
        "| **Double Double® Combo**                | $10.45 |\n",
        "| **French Fries**                        | $2.30  |\n",
        "\n",
        "## Beverages\n",
        "\n",
        "| Item                                        | Price  |\n",
        "|---------------------------------------------|--------|\n",
        "| **Coffee**                                  | $1.35  |\n",
        "| **Hot Cocoa**                               | $2.25  |\n",
        "| **Milk**                                    | $0.99  |\n",
        "| **Shakes** (Chocolate, Strawberry, Vanilla) | $3.00  |\n",
        "| **Soda (Small)**                            | $2.10  |\n",
        "| **Soda (Medium)**                           | $2.25  |\n",
        "| **Soda (Large)**                            | $2.45  |\n",
        "| **Soda (X‑Large)**                          | $2.65  |\n",
        "\n",
        "## Not‑So‑Secret Menu Options\n",
        "\n",
        "- **Protein Style Burger:** Any burger wrapped in lettuce instead of a bun.\n",
        "- **Animal Style:** Burger or fries served with a mustard‑cooked beef patty, extra spread, pickles, and grilled onions.\n",
        "\n",
        "tax not included\n",
        "\n",
        "tax is 7.25%\n",
        "\n",
        "---\"\"\""
      ],
      "metadata": {
        "id": "hyCg6c1P4PqB"
      },
      "execution_count": null,
      "outputs": []
    },
    {
      "cell_type": "code",
      "source": [
        "from agents import Agent, Runner\n",
        "\n",
        "agent = Agent(name=\"In-N-Out Cashier Assistant\",\n",
        "              instructions=f\"You are a helpful server at In-N-Out Burger respond to questions based on the menu below: \\n\\n{MENU_PRICES}\",\n",
        "              model=\"gpt-4o\"\n",
        "              )"
      ],
      "metadata": {
        "id": "_LyYbSg64UE9"
      },
      "execution_count": null,
      "outputs": []
    },
    {
      "cell_type": "code",
      "source": [
        "result = Runner.run_sync(agent, \"How much is a Double Double?.\")\n",
        "print(result.final_output)"
      ],
      "metadata": {
        "colab": {
          "base_uri": "https://localhost:8080/"
        },
        "id": "2ABT_Ay09qGA",
        "outputId": "841df23c-3440-47ec-cbe2-61a65bcc98a3"
      },
      "execution_count": null,
      "outputs": [
        {
          "output_type": "stream",
          "name": "stdout",
          "text": [
            "A Double Double® is $5.90.\n"
          ]
        }
      ]
    },
    {
      "cell_type": "code",
      "source": [
        "result = await Runner.run(agent, \"How much is a Double Double combo?.\")\n",
        "print(result.final_output)"
      ],
      "metadata": {
        "colab": {
          "base_uri": "https://localhost:8080/"
        },
        "id": "x3Rn1j5S-erx",
        "outputId": "91806a6a-fd20-43f6-e78d-3efa1e97ea31"
      },
      "execution_count": null,
      "outputs": [
        {
          "output_type": "stream",
          "name": "stdout",
          "text": [
            "The Double Double® Combo is $10.45 before tax.\n"
          ]
        }
      ]
    },
    {
      "cell_type": "code",
      "source": [
        "result = await Runner.run(agent, \"How much is a Double Double and french fries?.\")\n",
        "print(result.final_output)"
      ],
      "metadata": {
        "colab": {
          "base_uri": "https://localhost:8080/"
        },
        "id": "s0DxNofd-mmz",
        "outputId": "17d99ed1-d76f-47fb-bc3a-e641b7a8a6ca"
      },
      "execution_count": null,
      "outputs": [
        {
          "output_type": "stream",
          "name": "stdout",
          "text": [
            "A Double Double is $5.90, and French Fries are $2.30. So, the total before tax would be $8.20.\n"
          ]
        }
      ]
    },
    {
      "cell_type": "code",
      "source": [
        "result = await Runner.run(agent, \"How much is a Double Double and french fries?.\")\n",
        "print(result.final_output)"
      ],
      "metadata": {
        "colab": {
          "base_uri": "https://localhost:8080/"
        },
        "id": "5MovcJsEf384",
        "outputId": "a09cbf63-b5e4-4aa0-ac2d-7e80f0773206"
      },
      "execution_count": null,
      "outputs": [
        {
          "output_type": "stream",
          "name": "stdout",
          "text": [
            "A Double Double® costs $5.90, and French Fries are $2.30. Together, they total $8.20 before tax.\n"
          ]
        }
      ]
    },
    {
      "cell_type": "code",
      "source": [
        "result = await Runner.run(agent, \"How much is 32 Double Doubles each with french fries with tax?.\")\n",
        "print(result.final_output)"
      ],
      "metadata": {
        "colab": {
          "base_uri": "https://localhost:8080/"
        },
        "id": "BS0jWlBV_CPo",
        "outputId": "82b31267-d0fa-4e04-8fff-ef6710344f8c"
      },
      "execution_count": null,
      "outputs": [
        {
          "output_type": "stream",
          "name": "stdout",
          "text": [
            "Let's break this down:\n",
            "\n",
            "- A **Double Double®** is $5.90.\n",
            "- **French Fries** are $2.30.\n",
            "- Total for one Double Double® with fries (before tax): $5.90 + $2.30 = $8.20.\n",
            "\n",
            "For 32 meals:\n",
            "- $8.20 per meal × 32 = $262.40.\n",
            "\n",
            "Calculating tax (7.25%):\n",
            "- Tax = $262.40 × 0.0725 = $19.03.\n",
            "\n",
            "Total cost with tax:\n",
            "- $262.40 + $19.03 = $281.43.\n",
            "\n",
            "So, the total cost is approximately **$281.43**.\n"
          ]
        }
      ]
    },
    {
      "cell_type": "markdown",
      "source": [
        "## Streaming"
      ],
      "metadata": {
        "id": "tPLScDgsWSr0"
      }
    },
    {
      "cell_type": "code",
      "source": [
        "import asyncio\n",
        "from openai.types.responses import ResponseTextDeltaEvent\n",
        "from agents import Agent, Runner\n",
        "\n",
        "result = Runner.run_streamed(agent, input=\"How much is everything on the menu?.\")\n",
        "async for event in result.stream_events():\n",
        "    if event.type == \"raw_response_event\" and isinstance(event.data, ResponseTextDeltaEvent):\n",
        "        print(event.data.delta, end=\"\", flush=True)"
      ],
      "metadata": {
        "colab": {
          "base_uri": "https://localhost:8080/"
        },
        "id": "Q2HFn4FzWXZt",
        "outputId": "c6257fa0-19d2-41be-86f8-c3fc47af1032"
      },
      "execution_count": null,
      "outputs": [
        {
          "output_type": "stream",
          "name": "stdout",
          "text": [
            "Let's calculate the total for all items on the menu:\n",
            "\n",
            "### Burgers & Combos\n",
            "- Hamburger: $3.60\n",
            "- Hamburger Combo: $8.15\n",
            "- Cheeseburger: $4.10\n",
            "- Cheeseburger Combo: $8.65\n",
            "- Double Double®: $5.90\n",
            "- Double Double® Combo: $10.45\n",
            "- French Fries: $2.30\n",
            "- Additional Burger Patty: $1.30\n",
            "- Additional Cheese Slice: $0.50\n",
            "\n",
            "### Beverages\n",
            "- Coffee: $1.35\n",
            "- Hot Cocoa: $2.25\n",
            "- Milk: $0.99\n",
            "- Shakes: $3.00\n",
            "- Soda (Small): $2.10\n",
            "- Soda (Medium): $2.25\n",
            "- Soda (Large): $2.45\n",
            "- Soda (X‑Large): $2.65\n",
            "\n",
            "### Total Price\n",
            "To find the total, add all these up:\n",
            "\n",
            "$3.60 + $8.15 + $4.10 + $8.65 + $5.90 + $10.45 + $2.30 + $1.30 + $0.50 + $1.35 + $2.25 + $0.99 + $3.00 + $2.10 + $2.25 + $2.45 + $2.65 = $61.98\n",
            "\n",
            "The total cost for everything on the menu is $61.98 before tax."
          ]
        }
      ]
    },
    {
      "cell_type": "code",
      "source": [
        "result"
      ],
      "metadata": {
        "id": "p__DsHYqhdY8"
      },
      "execution_count": null,
      "outputs": []
    },
    {
      "cell_type": "code",
      "source": [
        "import asyncio\n",
        "import random\n",
        "from agents import Agent, ItemHelpers, Runner, function_tool\n",
        "\n",
        "result = Runner.run_streamed(\n",
        "    agent,\n",
        "    input=\"How much is 32 Double Doubles each with french fries?.\",\n",
        ")\n",
        "print(\"=== Run starting ===\")\n",
        "\n",
        "async for event in result.stream_events():\n",
        "    # We'll ignore the raw responses event deltas\n",
        "    if event.type == \"raw_response_event\":\n",
        "        continue\n",
        "    # When the agent updates, print that\n",
        "    elif event.type == \"agent_updated_stream_event\":\n",
        "        print(f\"Agent updated: {event.new_agent.name}\")\n",
        "        continue\n",
        "    # When items are generated, print them\n",
        "    elif event.type == \"run_item_stream_event\":\n",
        "        if event.item.type == \"tool_call_item\":\n",
        "            print(\"-- Tool was called\")\n",
        "        elif event.item.type == \"tool_call_output_item\":\n",
        "            print(f\"-- Tool output: {event.item.output}\")\n",
        "        elif event.item.type == \"message_output_item\":\n",
        "            print(f\"-- Message output:\\n {ItemHelpers.text_message_output(event.item)}\")\n",
        "        else:\n",
        "            pass  # Ignore other event types\n",
        "\n",
        "print(\"=== Run complete ===\")"
      ],
      "metadata": {
        "colab": {
          "base_uri": "https://localhost:8080/"
        },
        "id": "j6ad-l1kAe8o",
        "outputId": "9e90748a-c2db-486d-c246-a20d8f9e0748"
      },
      "execution_count": null,
      "outputs": [
        {
          "output_type": "stream",
          "name": "stdout",
          "text": [
            "=== Run starting ===\n",
            "Agent updated: In-N-Out Cashier Assistant\n",
            "-- Message output:\n",
            " Let's calculate the cost for 32 Double Doubles and 32 orders of French Fries:\n",
            "\n",
            "1. **Double Double®:** $5.90 each\n",
            "   - 32 Double Doubles: \\(32 \\times 5.90 = 188.80\\)\n",
            "\n",
            "2. **French Fries:** $2.30 each\n",
            "   - 32 orders of French Fries: \\(32 \\times 2.30 = 73.60\\)\n",
            "\n",
            "3. **Total before tax:**\n",
            "   - \\(188.80 + 73.60 = 262.40\\)\n",
            "\n",
            "4. **Tax (7.25%):**\n",
            "   - \\(262.40 \\times 0.0725 = 19.02\\) (rounded to two decimal places)\n",
            "\n",
            "5. **Total with tax:**\n",
            "   - \\(262.40 + 19.02 = 281.42\\)\n",
            "\n",
            "The total cost for 32 Double Doubles each with French Fries, including tax, is approximately $281.42.\n",
            "=== Run complete ===\n"
          ]
        }
      ]
    },
    {
      "cell_type": "markdown",
      "source": [
        "### Adding Tools"
      ],
      "metadata": {
        "id": "t5Vm12nO-oub"
      }
    },
    {
      "cell_type": "code",
      "source": [
        "from agents import Agent, Runner, function_tool\n",
        "\n",
        "@function_tool\n",
        "async def calculate_tax(order_total: float, tax_rate: float) -> str:\n",
        "    print(f\"[debug] calculating tax function called order:{order_total} tax:{tax_rate}\")\n",
        "    \"\"\"Calculates the tax for a given order total based on the input amount (float) and tax rate (float).\n",
        "    Args:\n",
        "        order_total: The total amount of the order before tax.\n",
        "        location: The location of the order. Defaults to Los Angeles, CA.\n",
        "    \"\"\"\n",
        "    tax_rate = 0.0725  # Default tax rate for Los Angeles, CA\n",
        "    tax_amount = order_total * tax_rate\n",
        "    total_with_tax = order_total + tax_amount\n",
        "    return f\"The tax on your order is ${tax_amount:.2f}. Your total with tax is ${total_with_tax:.2f}.\"\n"
      ],
      "metadata": {
        "cellView": "code",
        "id": "frZyY7rhDfz9"
      },
      "execution_count": null,
      "outputs": []
    },
    {
      "cell_type": "code",
      "source": [
        "agent = Agent(name=\"In-N-Out Cashier Assistant\",\n",
        "              instructions=f\"You are a helpful server at In-N-Out Burger respond to questions based on the menu below: \\n\\n{MENU_PRICES}\",\n",
        "              model=\"gpt-4o\",\n",
        "              tools=[calculate_tax]\n",
        "              )\n"
      ],
      "metadata": {
        "id": "0iLHI6VkAbZd"
      },
      "execution_count": null,
      "outputs": []
    },
    {
      "cell_type": "code",
      "source": [
        "result = await Runner.run(agent, \"How much is 5 Double Doubles each with french fries?.\")\n",
        "print(result.final_output)"
      ],
      "metadata": {
        "colab": {
          "base_uri": "https://localhost:8080/"
        },
        "id": "_dubs3HVEbP9",
        "outputId": "044c3b98-0279-4de6-c35d-448ef271991a"
      },
      "execution_count": null,
      "outputs": [
        {
          "output_type": "stream",
          "name": "stdout",
          "text": [
            "[debug] calculating tax function called order:41.0 tax:7.25\n",
            "The total for 5 Double Doubles each with French fries, including tax, is $43.97.\n"
          ]
        }
      ]
    },
    {
      "cell_type": "code",
      "source": [
        "41.0 *1.0725"
      ],
      "metadata": {
        "colab": {
          "base_uri": "https://localhost:8080/"
        },
        "id": "iY1MF_0iYTms",
        "outputId": "22e39d6c-cd31-49d4-f5d2-c01f4abadd7c"
      },
      "execution_count": null,
      "outputs": [
        {
          "output_type": "execute_result",
          "data": {
            "text/plain": [
              "43.972500000000004"
            ]
          },
          "metadata": {},
          "execution_count": 46
        }
      ]
    },
    {
      "cell_type": "code",
      "source": [
        "result"
      ],
      "metadata": {
        "id": "S3p3z3fWFfC6"
      },
      "execution_count": null,
      "outputs": []
    },
    {
      "cell_type": "code",
      "source": [
        "for k, v in result.__dict__.items():\n",
        "  print(f\"{k}: {v}\")\n"
      ],
      "metadata": {
        "id": "RMRBeps8F90T"
      },
      "execution_count": null,
      "outputs": []
    },
    {
      "cell_type": "code",
      "source": [
        "import json\n",
        "\n",
        "def extract_function_calls(run_result):\n",
        "    \"\"\"\n",
        "    Extracts function call items (both the call details and outputs)\n",
        "    from the run_result object.\n",
        "    \"\"\"\n",
        "    function_calls = {}\n",
        "    # Use attribute access instead of dict.get()\n",
        "    new_items = run_result.new_items if hasattr(run_result, 'new_items') else []\n",
        "\n",
        "    for item in new_items:\n",
        "        # Assuming each item has an attribute 'raw_item'\n",
        "        raw_item = item.raw_item if hasattr(item, 'raw_item') else {}\n",
        "\n",
        "        # Try to get the type from raw_item. It might be a dict or an object.\n",
        "        if isinstance(raw_item, dict):\n",
        "            item_type = raw_item.get(\"type\")\n",
        "            call_id = raw_item.get(\"call_id\")\n",
        "        else:\n",
        "            item_type = getattr(raw_item, \"type\", None)\n",
        "            call_id = getattr(raw_item, \"call_id\", None)\n",
        "\n",
        "        # Check if the item is a function call or its output\n",
        "        if item_type in [\"function_call\", \"function_call_output\"]:\n",
        "            if call_id not in function_calls:\n",
        "                function_calls[call_id] = {}\n",
        "            if item_type == \"function_call\":\n",
        "                # Get arguments as a JSON string and parse it\n",
        "                if isinstance(raw_item, dict):\n",
        "                    args = raw_item.get(\"arguments\")\n",
        "                    function_calls[call_id][\"name\"] = raw_item.get(\"name\")\n",
        "                else:\n",
        "                    args = getattr(raw_item, \"arguments\", None)\n",
        "                    function_calls[call_id][\"name\"] = getattr(raw_item, \"name\", None)\n",
        "                try:\n",
        "                    function_calls[call_id][\"arguments\"] = json.loads(args)\n",
        "                except Exception:\n",
        "                    function_calls[call_id][\"arguments\"] = args\n",
        "            elif item_type == \"function_call_output\":\n",
        "                if isinstance(raw_item, dict):\n",
        "                    function_calls[call_id][\"output\"] = raw_item.get(\"output\")\n",
        "                else:\n",
        "                    function_calls[call_id][\"output\"] = getattr(raw_item, \"output\", None)\n",
        "    return function_calls\n",
        "\n",
        "# Assuming `result` is your RunResult object:\n",
        "calls = extract_function_calls(result)\n",
        "\n",
        "# Print the extracted details\n",
        "for call_id, details in calls.items():\n",
        "    print(f\"Call ID: {call_id}\")\n",
        "    print(f\"Function Name: {details.get('name', 'N/A')}\")\n",
        "    print(\"Arguments:\")\n",
        "    for arg, value in details.get(\"arguments\", {}).items():\n",
        "        print(f\"  {arg}: {value}\")\n",
        "    print(\"Output:\")\n",
        "    print(f\"  {details.get('output', 'No output')}\")\n",
        "    print(\"-\" * 40)\n"
      ],
      "metadata": {
        "colab": {
          "base_uri": "https://localhost:8080/"
        },
        "id": "Hh-sbnt7GRt1",
        "outputId": "63d41787-6cd9-452b-aeaf-04962f240a4e"
      },
      "execution_count": null,
      "outputs": [
        {
          "output_type": "stream",
          "name": "stdout",
          "text": [
            "Call ID: call_b1EYTpUxLT7ZDl18iBeag4pe\n",
            "Function Name: calculate_tax\n",
            "Arguments:\n",
            "  order_total: 41\n",
            "  tax_rate: 7.25\n",
            "Output:\n",
            "  The tax on your order is $2.97. Your total with tax is $43.97.\n",
            "----------------------------------------\n"
          ]
        }
      ]
    },
    {
      "cell_type": "markdown",
      "source": [
        "### Websearch Tool"
      ],
      "metadata": {
        "id": "NMOUIKCWRyav"
      }
    },
    {
      "cell_type": "code",
      "source": [
        "from agents import Agent, FileSearchTool, Runner, WebSearchTool"
      ],
      "metadata": {
        "id": "W1rFrewNR8zE"
      },
      "execution_count": null,
      "outputs": []
    },
    {
      "cell_type": "code",
      "source": [
        "mcdonalds_agent = Agent(name=\"McDonalds Assistant\",\n",
        "              instructions=f\"You are a helpful server at McDonalds, respond to questions by using the search tool\",\n",
        "              model=\"gpt-4o\",\n",
        "              tools=[WebSearchTool()]\n",
        "              )\n"
      ],
      "metadata": {
        "id": "NFiZmZCrR9Ea"
      },
      "execution_count": null,
      "outputs": []
    },
    {
      "cell_type": "code",
      "source": [
        "result = await Runner.run(mcdonalds_agent, \"How much is BigMac?.\")\n",
        "\n",
        "print(result.final_output)"
      ],
      "metadata": {
        "colab": {
          "base_uri": "https://localhost:8080/"
        },
        "outputId": "e4e70953-fdd8-4810-f4f2-36359b69a81b",
        "id": "GWl-PYtYR9Ea"
      },
      "execution_count": null,
      "outputs": [
        {
          "output_type": "stream",
          "name": "stdout",
          "text": [
            "As of May 2024, the average price of a Big Mac in the United States was $5.29, up from $4.39 in 2019, reflecting a 21% increase. ([foodandwine.com](https://www.foodandwine.com/mcdonalds-big-mac-price-inflation-8656041?utm_source=openai)) Prices can vary by location; for example, in Hawaii, a Big Mac was priced at $5.31, while in Mississippi, it was $3.91. ([nypost.com](https://nypost.com/web-stories/big-mac-price-soar-amid-inflation-at-mcdonalds/?utm_source=openai)) Please note that these prices may have changed since then. \n"
          ]
        }
      ]
    },
    {
      "cell_type": "code",
      "source": [
        "result.new_items[1].raw_item.content[0].annotations"
      ],
      "metadata": {
        "colab": {
          "base_uri": "https://localhost:8080/"
        },
        "id": "rqgM6PXmR14a",
        "outputId": "6476cfa0-fbb9-4c27-813c-1d602da0dfe7"
      },
      "execution_count": null,
      "outputs": [
        {
          "output_type": "execute_result",
          "data": {
            "text/plain": [
              "[AnnotationURLCitation(end_index=237, start_index=129, title=\"McDonald's Calls the $18 Big Mac an 'Exception'\", type='url_citation', url='https://www.foodandwine.com/mcdonalds-big-mac-price-inflation-8656041?utm_source=openai'),\n",
              " AnnotationURLCitation(end_index=470, start_index=358, title='Big Mac price soar amid inflation at McDonalds – New York Post', type='url_citation', url='https://nypost.com/web-stories/big-mac-price-soar-amid-inflation-at-mcdonalds/?utm_source=openai')]"
            ]
          },
          "metadata": {},
          "execution_count": 25
        }
      ]
    },
    {
      "cell_type": "markdown",
      "source": [
        "### Agents as tools"
      ],
      "metadata": {
        "id": "6TGCmMZyAorn"
      }
    },
    {
      "cell_type": "code",
      "source": [
        "from agents import Agent, Runner\n",
        "import asyncio\n",
        "\n",
        "\n",
        "\n",
        "orchestrator_agent = Agent(\n",
        "    name=\"orchestrator_agent\",\n",
        "    instructions=(\n",
        "        \"You are a DoorDash Agent who decides which tools or assistants to call \"\n",
        "        \"If asked for prices or menu items, you call the relevant tools.\"\n",
        "        \"if asked for info from. more than one source run multiple tools\"\n",
        "    ),\n",
        "    tools=[\n",
        "        agent.as_tool(\n",
        "            tool_name=\"in_n_out_burger_assistant\",\n",
        "            tool_description=\"Get prices with tax for In-N-Out Burger\",\n",
        "        ),\n",
        "        mcdonalds_agent.as_tool(\n",
        "            tool_name=\"mcdonalds_assistant\",\n",
        "            tool_description=\"Get prices for McDonalds\",\n",
        "        ),\n",
        "    ],\n",
        ")\n"
      ],
      "metadata": {
        "id": "pAUAymLwAqY-"
      },
      "execution_count": null,
      "outputs": []
    },
    {
      "cell_type": "code",
      "source": [
        "result = await Runner.run(orchestrator_agent, input=\"How much is a Double Double at in-N-out?\")\n",
        "print(result.final_output)"
      ],
      "metadata": {
        "colab": {
          "base_uri": "https://localhost:8080/"
        },
        "id": "FDi7Ol9UUp6w",
        "outputId": "4df754ed-c421-40bb-910b-bf825c66a4e4"
      },
      "execution_count": null,
      "outputs": [
        {
          "output_type": "stream",
          "name": "stdout",
          "text": [
            "The Double Double® burger by itself is $5.90, or you can get it as a Combo with fries and a drink for $10.45.\n"
          ]
        }
      ]
    },
    {
      "cell_type": "code",
      "source": [
        "result = await Runner.run(orchestrator_agent, input=\"what does McDonalds have for breakfast?\")\n",
        "print(result.final_output)"
      ],
      "metadata": {
        "colab": {
          "base_uri": "https://localhost:8080/"
        },
        "id": "nw9beoVMUxm5",
        "outputId": "afd00dc9-e923-4c20-d312-0a7ba7c686fa"
      },
      "execution_count": null,
      "outputs": [
        {
          "output_type": "stream",
          "name": "stdout",
          "text": [
            "Here are some of the breakfast options available at McDonald's:\n",
            "\n",
            "### Breakfast Sandwiches\n",
            "- **Egg McMuffin®**: Egg, Canadian bacon, and cheese on an English muffin.\n",
            "- **Sausage McMuffin®**: Sausage and cheese on an English muffin.\n",
            "- **Bacon, Egg & Cheese Biscuit**: Bacon, egg, and cheese on a biscuit.\n",
            "- **Sausage Biscuit with Egg**: Sausage and egg on a biscuit.\n",
            "- **McGriddles®**: Griddle cakes with maple flavoring, egg, cheese, and bacon or sausage.\n",
            "\n",
            "### Sweet Options\n",
            "- **Hotcakes**: Pancakes served with butter and syrup.\n",
            "- **Fruit & Maple Oatmeal**: Oats with apples, cranberries, and raisins, topped with light cream.\n",
            "\n",
            "### Sides\n",
            "- **Hash Browns**: Crispy potato patties.\n",
            "\n",
            "### Wraps & Bowls\n",
            "- **Sausage Burrito**: Eggs, sausage, cheese, and green chiles in a tortilla.\n",
            "\n",
            "### Recent Additions\n",
            "- **Bagel Sandwiches**: Bacon, Egg & Cheese Bagel, and Steak, Egg & Cheese Bagel.\n",
            "\n",
            "### Value Deals\n",
            "- **$1 McMuffins**: Available through the McDonald's app.\n",
            "- **\"Buy One, Add One for $1\" Offer**: Available from a limited value menu.\n",
            "\n",
            "Menu options and deals may vary by location, so check with your local McDonald's for more details.\n"
          ]
        }
      ]
    },
    {
      "cell_type": "code",
      "source": [
        "result = await Runner.run(orchestrator_agent, input=\"Is a BigMac or a DoubleDouble AnimalStyle cheaper?\")\n",
        "print(result.final_output)"
      ],
      "metadata": {
        "colab": {
          "base_uri": "https://localhost:8080/"
        },
        "id": "uD11__1OVRu4",
        "outputId": "c92d809f-435f-4360-f399-fc80f74da5fb"
      },
      "execution_count": null,
      "outputs": [
        {
          "output_type": "stream",
          "name": "stdout",
          "text": [
            "The **In-N-Out Double Double Animal Style** is approximately **$5.90**.\n",
            "\n",
            "The **McDonald's Big Mac** averages around **$5.29** in the US.\n",
            "\n",
            "The Big Mac is slightly cheaper than the Double Double Animal Style.\n"
          ]
        }
      ]
    },
    {
      "cell_type": "code",
      "source": [
        "result"
      ],
      "metadata": {
        "id": "YMn9xIZiVZu3"
      },
      "execution_count": null,
      "outputs": []
    },
    {
      "cell_type": "code",
      "source": [],
      "metadata": {
        "id": "5vrL-LOMVzb2"
      },
      "execution_count": null,
      "outputs": []
    },
    {
      "cell_type": "markdown",
      "source": [
        "## Giving it a Chat Memory"
      ],
      "metadata": {
        "id": "wqkIb47wYlLD"
      }
    },
    {
      "cell_type": "code",
      "source": [
        "agent = Agent(name=\"In-N-Out Cashier Assistant\",\n",
        "              instructions=f\"You are a helpful server at In-N-Out Burger respond to questions based on the menu below: \\n\\n{MENU_PRICES}\",\n",
        "              model=\"gpt-4o\",\n",
        "              tools=[calculate_tax]\n",
        "              )\n"
      ],
      "metadata": {
        "id": "mqbqRhvrYo-p"
      },
      "execution_count": null,
      "outputs": []
    },
    {
      "cell_type": "code",
      "source": [
        "result = await Runner.run(agent, \"ok first let me order a Double Doubles with french fries.\")\n",
        "print(result.final_output)"
      ],
      "metadata": {
        "colab": {
          "base_uri": "https://localhost:8080/"
        },
        "outputId": "77132eb8-43d6-4342-c5c8-61e081e1a04c",
        "id": "SPYEFSYRYo-q"
      },
      "execution_count": null,
      "outputs": [
        {
          "output_type": "stream",
          "name": "stdout",
          "text": [
            "Would you like to make that a Double Double® Combo? It includes fries and a drink for $10.45, which might be more economical than ordering à la carte.\n"
          ]
        }
      ]
    },
    {
      "cell_type": "code",
      "source": [
        "result.to_input_list()"
      ],
      "metadata": {
        "colab": {
          "base_uri": "https://localhost:8080/"
        },
        "id": "diVWWgNQab9q",
        "outputId": "e929c191-cd50-4892-f1e2-63a9794f3b60"
      },
      "execution_count": null,
      "outputs": [
        {
          "output_type": "execute_result",
          "data": {
            "text/plain": [
              "[{'content': 'ok first let me order a Double Doubles with french fries.',\n",
              "  'role': 'user'},\n",
              " {'id': 'msg_67d7fbdccfd48190bbe0d391f895bf6004b2bebf8a888e19',\n",
              "  'content': [{'annotations': [],\n",
              "    'text': 'Would you like to make that a Double Double® Combo? It includes fries and a drink for $10.45, which might be more economical than ordering à la carte.',\n",
              "    'type': 'output_text'}],\n",
              "  'role': 'assistant',\n",
              "  'status': 'completed',\n",
              "  'type': 'message'}]"
            ]
          },
          "metadata": {},
          "execution_count": 33
        }
      ]
    },
    {
      "cell_type": "code",
      "source": [
        "def assemble_conversation(result, new_input):\n",
        "    if result !=None:\n",
        "        new_input = result.to_input_list() + [{'content': new_input,\n",
        "                                                'role': 'user'}]\n",
        "    else:\n",
        "        new_input = new_input\n",
        "    return new_input"
      ],
      "metadata": {
        "id": "JEp2v6kyajER"
      },
      "execution_count": null,
      "outputs": []
    },
    {
      "cell_type": "code",
      "source": [
        "new_prompt = \"Yes make it a combo please\""
      ],
      "metadata": {
        "id": "X2GOSshRbXiq"
      },
      "execution_count": null,
      "outputs": []
    },
    {
      "cell_type": "code",
      "source": [
        "new_input = assemble_conversation(result, new_prompt)\n",
        "\n",
        "result = await Runner.run(agent, new_input)\n",
        "print(result.final_output)"
      ],
      "metadata": {
        "colab": {
          "base_uri": "https://localhost:8080/"
        },
        "id": "7PxSXWfvbe3a",
        "outputId": "b15d8a62-5bcd-4657-f2ee-821ea26ce40d"
      },
      "execution_count": null,
      "outputs": [
        {
          "output_type": "stream",
          "name": "stdout",
          "text": [
            "Great choice! Here's the breakdown for your order:\n",
            "\n",
            "- **Double Double® Combo**: $10.45\n",
            "\n",
            "Would you like to add anything else, such as a drink or dessert?\n"
          ]
        }
      ]
    },
    {
      "cell_type": "code",
      "source": [
        "new_prompt = \"Yes can I get a coffee as well. thats all\" #coffee $1.35"
      ],
      "metadata": {
        "id": "F3IgglCcb35-"
      },
      "execution_count": null,
      "outputs": []
    },
    {
      "cell_type": "code",
      "source": [
        "new_input = assemble_conversation(result, new_prompt)\n",
        "\n",
        "result = await Runner.run(agent, new_input)\n",
        "print(result.final_output)"
      ],
      "metadata": {
        "colab": {
          "base_uri": "https://localhost:8080/"
        },
        "outputId": "f794a298-41a4-4c80-c58d-590556d5b104",
        "id": "hXNTDZptb35-"
      },
      "execution_count": null,
      "outputs": [
        {
          "output_type": "stream",
          "name": "stdout",
          "text": [
            "[debug] calculating tax function called order:11.8 tax:7.25\n",
            "Your total comes to $12.66, including tax.\n",
            "\n",
            "Thank you for your order, and enjoy your meal!\n"
          ]
        }
      ]
    },
    {
      "cell_type": "code",
      "source": [],
      "metadata": {
        "id": "AutOE3Lnbr8W"
      },
      "execution_count": null,
      "outputs": []
    }
  ]
}